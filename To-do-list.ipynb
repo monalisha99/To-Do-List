{
 "cells": [
  {
   "cell_type": "markdown",
   "id": "e85b80c2-018b-48a0-bcc7-6d4a69e02ea3",
   "metadata": {},
   "source": [
    "# Building A To Do List Application Using Python Tkinter\n",
    "\n",
    "Hi, I am new to python and aspire to be a python developer. I am taking a 100 day python learning challenge, where I will be learning from basics to advanced concepts. Along with various tools such as Jupyter Notebook, VS Code, GitHub etc.\n",
    "\n",
    "![Screenshot of To Do List Application](./assets/todolist-app.png)\n",
    "\n",
    "To Do List App using Tkinter is my first step at learning GUI ( Graphical User Interface ). Following are the learning objectives:\n",
    "\n",
    "- Understand GUI ( Graphical user Interface )\n",
    "- Python Libraries For GUI Development\n",
    "- Tkinter Basics\n",
    "    - Window Management\n",
    "    - Widgets\n",
    "    - Events\n",
    "- [Little bit of GitHub](https://github.com/monalisha99/To-Do-List)\n",
    "\n",
    "Let's go through the notebook and understand the code few lines at a time."
   ]
  },
  {
   "cell_type": "markdown",
   "id": "f8b2c673-8a3f-4ad0-b134-49ffa7b28e38",
   "metadata": {},
   "source": [
    "### 1. Import Libraries\n",
    "We are using python tkinter library and fonts here. Note that these libraries come pre-installed with python. You do not have to install them separately."
   ]
  },
  {
   "cell_type": "code",
   "execution_count": null,
   "id": "44394f0b-0113-419b-9a25-0cca1052d3a1",
   "metadata": {},
   "outputs": [],
   "source": [
    "import tkinter as tk\n",
    "import tkinter.font as font"
   ]
  },
  {
   "cell_type": "markdown",
   "id": "a956edba-1ba2-4824-8fe7-f3b30a1ce0f6",
   "metadata": {},
   "source": [
    "### 2. Define A Function for Add Button\n",
    "\n",
    "The following function `addTask()`is called when the <img src=\"./assets/add.png\" alt=\"Add\" width=30/> button is clicked(we will see it in a bit).\n",
    "\n",
    "We start by retrieving the values entered to an Entrybox widget. Then we are removing white spaces. If the entrybox field has no entries, then we are displaying a suggestion text or placeholder text `Enter Task Here ..`\n",
    "\n",
    "Then we are setting the following conditions before storing tasks to `taskList` container:\n",
    " 1. Entry box should not be empty or Length of string in entry box should not be zero.\n",
    " 2. Then we also check if the value is the placeholder text `Enter Task Here ..`. We don't want this as a task as well.\n",
    "\n",
    "<b>Another condition:</b> We are also clearing the palceholder text once it is displayed.\n",
    "\n",
    "Once we are done with the auxiliary conditions, we proceed to task display section. Here we are looping through taskList `container` and displaying tasks as `Label` widget. In the following code, the tasks are formatted as Labels. Let's go through the arguments.\n",
    "\n",
    " - `scrollable_frame`: we are using a frame widget to place the widgets so that it can be scrolled up and down.\n",
    " - `text=f\"{i+1}. \"+ taskList[i]` : The task text is formatted to display $i^{th}$ item with numbered prefix.\n",
    " - `.grid`: It is a widget placement method in tkinter. Here we are updating rows as number of item increases.\n",
    "\n",
    "```\n",
    "taskLabel = tk.Label(scrollable_frame, text=f\"{i+1}. \"+ taskList[i], font=entry_font)\n",
    "taskLabel.grid(row=1+i, column=0, sticky='nw')\n",
    "```\n",
    "\n",
    "Adding `Checkboxes` is pretty much self explanatory.\n",
    "\n",
    "Finally we are updating the Canvas and Clearing the Entrybox widget.\n"
   ]
  },
  {
   "cell_type": "code",
   "execution_count": null,
   "id": "a8e8cd0d-264c-4f54-bb42-7bab9365b73e",
   "metadata": {},
   "outputs": [],
   "source": [
    "def addTask(event=None):\n",
    "    # Read value entered in entrybox widget.\n",
    "    entry_box_value = entryBox.get()\n",
    "    # Trim unnecessary white spaces.\n",
    "    entry_box_value = entry_box_value.strip()\n",
    "\n",
    "    # If there is no text entered and add button is clicked, it display suggestion text or placeholder text.\n",
    "    if len(entry_box_value) == 0:\n",
    "        entryBox.insert(0, 'Enter Task Here ..')\n",
    "        \n",
    "    # Clear placeholder text once displayed.\n",
    "    if entry_box_value == 'Enter Task Here ..':\n",
    "        # clear the entry box widget\n",
    "        entryBox.delete(0, tk.END)\n",
    "        \n",
    "    # Condition to ignore placeholder text And add other values as task given that there is something in the entrybox.\n",
    "    if (entry_box_value != 'Enter Task Here ..') and len(entry_box_value)!=0:\n",
    "        # Store tasks to taskList\n",
    "        taskList.append(entry_box_value)\n",
    "        \n",
    "    # Main loop, show widgets ( we are also setting condition that entry box is not empty\n",
    "    if (len(entry_box_value)!=0) and (entry_box_value is not None) and (len(taskList)!=0):\n",
    "        for i in range(len(taskList)):\n",
    "            # Format tasks as labels and place accordingly.\n",
    "            taskLabel = tk.Label(scrollable_frame, text=f\"{i+1}. \"+ taskList[i], font=entry_font)\n",
    "            taskLabel.grid(row=1+i, column=0, sticky='nw')\n",
    "\n",
    "            # Add check boxes.\n",
    "            checkBox = tk.Checkbutton(scrollable_frame, font=(\"Arial\", 16))\n",
    "            checkBox.grid(row=1+i, column=1, padx=5)\n",
    "\n",
    "        # Update scrollregion\n",
    "        canvas.configure(scrollregion=canvas.bbox(\"all\"))\n",
    "    \n",
    "        # clear the entry box widget\n",
    "        entryBox.delete(0, tk.END)"
   ]
  },
  {
   "cell_type": "code",
   "execution_count": null,
   "id": "59919590-e678-4bc1-b933-ada105d1032f",
   "metadata": {},
   "outputs": [],
   "source": []
  }
 ],
 "metadata": {
  "kernelspec": {
   "display_name": "Python 3 (ipykernel)",
   "language": "python",
   "name": "python3"
  },
  "language_info": {
   "codemirror_mode": {
    "name": "ipython",
    "version": 3
   },
   "file_extension": ".py",
   "mimetype": "text/x-python",
   "name": "python",
   "nbconvert_exporter": "python",
   "pygments_lexer": "ipython3",
   "version": "3.10.18"
  }
 },
 "nbformat": 4,
 "nbformat_minor": 5
}
