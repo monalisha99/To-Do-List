{
 "cells": [
  {
   "cell_type": "markdown",
   "id": "e85b80c2-018b-48a0-bcc7-6d4a69e02ea3",
   "metadata": {},
   "source": [
    "# Building A To Do List Application Using Python Tkinter\n",
    "\n",
    "Hi, I am new to python and aspire to be a python developer. I am taking a 100 day python learning challenge, where I will be learning from basics to advanced concepts. Along with various tools such as Jupyter Notebook, VS Code, GitHub etc.\n",
    "\n",
    "![Screenshot of To Do List Application](./assets/todolist-app.png)\n",
    "\n",
    "To Do List App using Tkinter is my first step at learning GUI ( Graphical User Interface ). Following are the learning objectives:\n",
    "\n",
    "- Understand GUI ( Graphical user Interface )\n",
    "- Python Libraries For GUI Development\n",
    "- Tkinter Basics\n",
    "    - Window Management\n",
    "    - Widgets\n",
    "    - Events\n",
    "- [Little bit of GitHub](https://github.com/monalisha99/To-Do-List)\n",
    "\n",
    "Let's go through the notebook and understand the code few lines at a time."
   ]
  },
  {
   "cell_type": "markdown",
   "id": "f8b2c673-8a3f-4ad0-b134-49ffa7b28e38",
   "metadata": {},
   "source": [
    "### 1. Import Libraries\n",
    "We are using python tkinter library and fonts here. Note that these libraries come pre-installed with python. You do not have to install them separately."
   ]
  },
  {
   "cell_type": "code",
   "execution_count": null,
   "id": "44394f0b-0113-419b-9a25-0cca1052d3a1",
   "metadata": {},
   "outputs": [],
   "source": [
    "import tkinter as tk\n",
    "import tkinter.font as font"
   ]
  },
  {
   "cell_type": "markdown",
   "id": "a956edba-1ba2-4824-8fe7-f3b30a1ce0f6",
   "metadata": {},
   "source": [
    "### 2. Define A Function for Add Button\n",
    "\n",
    "The following function `addTask()`is called when the <img src=\"./assets/add.png\" alt=\"Add\" width=30/> button is clicked(we will see it in a bit).\n",
    "\n",
    "We start by retrieving the values entered to an Entrybox widget. Then we are removing white spaces. If the entrybox field has no entries, then we are displaying a suggestion text or placeholder text `Enter Task Here ..`\n",
    "\n",
    "Then we are setting the following conditions before storing tasks to `taskList` container:\n",
    " 1. Entry box should not be empty or Length of string in entry box should not be zero.\n",
    " 2. Then we also check if the value is the placeholder text `Enter Task Here ..`. We don't want this as a task as well.\n",
    "\n",
    "<b>Another condition:</b> We are also clearing the palceholder text once it is displayed.\n",
    "\n",
    "Once we are done with the auxiliary conditions, we proceed to task display section. Here we are looping through taskList `container` and displaying tasks as `Label` widget. In the following code, the tasks are formatted as Labels. Let's go through the arguments.\n",
    "\n",
    " - `scrollable_frame`: we are using a frame widget to place the widgets so that it can be scrolled up and down.\n",
    " - `text=f\"{i+1}. \"+ taskList[i]` : The task text is formatted to display $i^{th}$ item with numbered prefix.\n",
    " - `.grid`: It is a widget placement method in tkinter. Here we are updating rows as number of item increases.\n",
    "\n",
    "```\n",
    "taskLabel = tk.Label(scrollable_frame, text=f\"{i+1}. \"+ taskList[i], font=entry_font)\n",
    "taskLabel.grid(row=i, column=0, sticky='nw')\n",
    "```\n",
    "\n",
    "Adding `Checkboxes` is pretty much self explanatory.\n",
    "\n"
   ]
  },
  {
   "cell_type": "code",
   "execution_count": 1,
   "id": "a8e8cd0d-264c-4f54-bb42-7bab9365b73e",
   "metadata": {},
   "outputs": [],
   "source": [
    "def addTask(event=None):\n",
    "    # Read value entered in entrybox widget.\n",
    "    entry_box_value = entryBox.get()\n",
    "    # Trim unnecessary white spaces.\n",
    "    entry_box_value = entry_box_value.strip()\n",
    "\n",
    "    # If there is no text entered and add button is clicked, it display suggestion text or placeholder text.\n",
    "    if len(entry_box_value) == 0:\n",
    "        entryBox.insert(0, 'Enter Task Here ..')\n",
    "        \n",
    "    # Clear placeholder text once displayed.\n",
    "    if entry_box_value == 'Enter Task Here ..':\n",
    "        # clear the entry box widget\n",
    "        entryBox.delete(0, tk.END)\n",
    "        \n",
    "    # Condition to ignore placeholder text And add other values as task given that there is something in the entrybox.\n",
    "    if (entry_box_value != 'Enter Task Here ..') and len(entry_box_value)!=0:\n",
    "        # Store tasks to taskList\n",
    "        taskList.append(entry_box_value)\n",
    "        \n",
    "    # Main loop, show widgets ( we are also setting condition that entry box is not empty\n",
    "    if (len(entry_box_value)!=0) and (entry_box_value is not None) and (len(taskList)!=0):\n",
    "        for i in range(len(taskList)):\n",
    "            # Format tasks as labels and place accordingly.\n",
    "            taskLabel = tk.Label(scrollable_frame, text=f\"{i+1}. \"+ taskList[i], font=entry_font)\n",
    "            taskLabel.grid(row=i, column=0, sticky='nw')\n",
    "\n",
    "            # Add check boxes.\n",
    "            checkBox = tk.Checkbutton(scrollable_frame, font=(\"Arial\", 16))\n",
    "            checkBox.grid(row=i, column=1, padx=5)\n",
    "\n",
    "        # Update scrollregion\n",
    "        canvas.configure(scrollregion=canvas.bbox(\"all\"))\n",
    "    \n",
    "        # clear the entry box widget\n",
    "        entryBox.delete(0, tk.END)"
   ]
  },
  {
   "cell_type": "markdown",
   "id": "3c50a6ec-b1c8-4a7c-ab76-717d278ba8e7",
   "metadata": {},
   "source": [
    "### 3. Define a Function for Delete Button\n",
    "The following function `deleteTask`() is used when the `Delete` button is clicked.\n",
    "\n",
    "When the Delete button is clicked, it clears the text in the entry box, removes all items from the `taskList`, and deletes all the widgets inside the scrollable frame.\n",
    "\n",
    "The scrollable_frame is a `tk.Frame`. The function `scrollable_frame.grid_slaves()` returns list of widgets inside `scrollable_frame` object.\n",
    "\n",
    "The frame object (or any widget in Tkinter) does not have a built-in `.clear()` method like a list or dictionary. Therefore, to remove the widgets inside the `scrollable_frame` we use `.destroy()` method.\n"
   ]
  },
  {
   "cell_type": "code",
   "execution_count": 3,
   "id": "490f45f0-cfd8-4475-9884-4a7150c737cb",
   "metadata": {},
   "outputs": [],
   "source": [
    "def deleteTask(taskList):\n",
    "    # clear the entry box widget\n",
    "    entryBox.delete(0, tk.END)\n",
    "    # clear tasklist container\n",
    "    taskList.clear()\n",
    "    \n",
    "\n",
    "    # clear widgets from the scrollable frame\n",
    "    for w in scrollable_frame.grid_slaves():\n",
    "        w.destroy()"
   ]
  },
  {
   "cell_type": "markdown",
   "id": "061d7c2f-8094-4ba2-900a-027a1423d3eb",
   "metadata": {},
   "source": [
    "### 4. Define a Function for Mousewheel Event\n",
    "The function `mouseWheel`() is used to scroll with the mouse wheel in the `canvas` widget.\n",
    "\n",
    "Here,`event` is an object automatically passed by Tkinter that contains data about the mouse event.\n",
    "\n",
    "`int(-1 * (event.delta / 120))`: This calculates how many scroll \"units\" to move. Here, `event.delta/120`, devides the scroll value by 120 so we get-\n",
    "\n",
    "    +1 for scroll up (move down 1 unit)\n",
    "    -1 for scroll down (move up 1 unit)\n",
    "\n"
   ]
  },
  {
   "cell_type": "code",
   "execution_count": 6,
   "id": "a1df3692-3f63-4ef9-9ec7-9e87bd8910e8",
   "metadata": {},
   "outputs": [],
   "source": [
    "def mouseWheel(event):\n",
    "    canvas.yview_scroll(int(-1*(event.delta/120)), \"units\")\n"
   ]
  },
  {
   "cell_type": "markdown",
   "id": "d703efbd-294d-4505-851d-192be5ce418d",
   "metadata": {},
   "source": [
    "### 5. Creat Main Application Window, Tasklist, Entrybox, Add Button, Delete Button, Canvas and Scrollable frame\n",
    "Here, we create the main window, set a title and define the size of the window.\n",
    "\n",
    "To store the entered tasks we define a Tasklist as `taskList`.\n",
    "We define Entrybox as `entryBox`, Add Button as `addButton`, Delete Button as `deleteButton`, Canvas as `canvas`, Scroll bar as `scrollBar`, Scrollable frame as `scrollableFrame`.\n",
    "\n",
    "In `addButton` we call the function `command=lambda:addTask` with rest of the arguments.\n",
    "\n",
    "In `deleteButton` we call the function `command=lambda:deleteTask(taskList))` with rest of the arguments.\n",
    "\n",
    "To scroll up and down the canvas with the mouse wheel we use the `.bind_all` method.\n",
    "\n",
    "At the end to keep thwe window open we use Tkinter event loop `.mainloop()`."
   ]
  },
  {
   "cell_type": "code",
   "execution_count": 4,
   "id": "709c05a8-149a-4ccd-9637-1159a52d4308",
   "metadata": {},
   "outputs": [
    {
     "name": "stderr",
     "output_type": "stream",
     "text": [
      "Exception in Tkinter callback\n",
      "Traceback (most recent call last):\n",
      "  File \"/home/monalisha/miniconda3/envs/coding/lib/python3.10/tkinter/__init__.py\", line 1921, in __call__\n",
      "    return self.func(*args)\n",
      "  File \"/tmp/ipykernel_31861/3859730376.py\", line 19, in <lambda>\n",
      "    command=lambda:addTask())\n",
      "NameError: name 'addTask' is not defined\n"
     ]
    }
   ],
   "source": [
    "window = tk.Tk()\n",
    "window.title(\"Welcome to To-Do list\")\n",
    "window.geometry(\"660x480\")\n",
    "\n",
    "# Define an empty list to store tasks entered\n",
    "taskList =[]\n",
    "entry_font = font.Font(family=\"Monospace\", size=16)\n",
    "\n",
    "entryBox = tk.Entry(window, width=48,font=entry_font)\n",
    "entryBox.grid(row=0, column=0, ipady=2, padx=10, pady=10)\n",
    "\n",
    "addButton = tk.Button(window, \n",
    "                      text=\"Add\",\n",
    "                      font=('Arial',11),\n",
    "                      bg='#89CFF0',\n",
    "                      fg='black', \n",
    "                      activebackground='blue', \n",
    "                      activeforeground='white', \n",
    "                      command=lambda:addTask())\n",
    "addButton.grid(row=0, column=1, padx=3, ipady=5)\n",
    "\n",
    "deleteButton = tk.Button(window, \n",
    "                         text=\"Delete\",\n",
    "                         font=('Arial',11),\n",
    "                         bg=\"#FA5C51\",\n",
    "                         fg='white', \n",
    "                         activebackground=\"#BA0D01\", \n",
    "                         activeforeground='white', \n",
    "                         command=lambda:deleteTask(taskList))\n",
    "deleteButton.grid(row=0, column=2, padx=3, ipady=5)\n",
    "\n",
    "canvas = tk.Canvas(window, width=550, height=34 * 20)\n",
    "scrollBar = tk.Scrollbar(window, orient=\"vertical\", command=canvas.yview)\n",
    "canvas.grid(row=1, column=0, columnspan=2)\n",
    "scrollBar.grid(row=1,column=2, sticky=\"ns\")\n",
    "\n",
    "canvas.configure(yscrollcommand=scrollBar.set)\n",
    "\n",
    "# Create a frame inside the canvas to hold widgets\n",
    "scrollableFrame = tk.Frame(canvas)\n",
    "canvas.create_window((0, 0), window=scrollableFrame, anchor=\"nw\")\n",
    "\n",
    "\n",
    "canvas.bind_all(\"<Button-5>\", lambda e: canvas.yview_scroll(1, \"units\"))   # Linux scroll down\n",
    "canvas.bind_all(\"<Button-4>\", lambda e: canvas.yview_scroll(-1, \"units\"))  # Linux scroll up\n",
    "\n",
    "window.mainloop()"
   ]
  },
  {
   "cell_type": "code",
   "execution_count": null,
   "id": "b792ea9b-b066-4de6-8b11-908edcd98145",
   "metadata": {},
   "outputs": [],
   "source": []
  }
 ],
 "metadata": {
  "kernelspec": {
   "display_name": "Python 3 (ipykernel)",
   "language": "python",
   "name": "python3"
  },
  "language_info": {
   "codemirror_mode": {
    "name": "ipython",
    "version": 3
   },
   "file_extension": ".py",
   "mimetype": "text/x-python",
   "name": "python",
   "nbconvert_exporter": "python",
   "pygments_lexer": "ipython3",
   "version": "3.10.18"
  }
 },
 "nbformat": 4,
 "nbformat_minor": 5
}
